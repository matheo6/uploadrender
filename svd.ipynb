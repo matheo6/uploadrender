{
 "cells": [
  {
   "cell_type": "code",
   "execution_count": 1,
   "metadata": {},
   "outputs": [],
   "source": [
    "import pandas as pd\n",
    "import numpy as np\n",
    "from sklearn.feature_extraction.text import TfidfVectorizer\n",
    "from sklearn.metrics.pairwise import cosine_similarity"
   ]
  },
  {
   "cell_type": "code",
   "execution_count": 2,
   "metadata": {},
   "outputs": [],
   "source": [
    "data2= pd.read_parquet('recomendationdf.parquet.gzip')"
   ]
  },
  {
   "cell_type": "code",
   "execution_count": 3,
   "metadata": {},
   "outputs": [],
   "source": [
    "data2['popularity']=data2.popularity.astype(float)"
   ]
  },
  {
   "cell_type": "code",
   "execution_count": 4,
   "metadata": {},
   "outputs": [],
   "source": [
    "data2=data2.dropna()\n",
    "data2=data2.reset_index(drop=True)"
   ]
  },
  {
   "cell_type": "code",
   "execution_count": 5,
   "metadata": {},
   "outputs": [],
   "source": [
    "vectorizer=TfidfVectorizer()\n",
    "tftidf_matrix=vectorizer.fit_transform(data2['original_title'])\n",
    "features=np.column_stack([tftidf_matrix.toarray(),data2['popularity'],data2['revenue'],data2['vote_average']])"
   ]
  },
  {
   "cell_type": "code",
   "execution_count": 6,
   "metadata": {},
   "outputs": [],
   "source": [
    "similarmatrix=cosine_similarity(features)"
   ]
  },
  {
   "cell_type": "code",
   "execution_count": 9,
   "metadata": {},
   "outputs": [
    {
     "data": {
      "text/plain": [
       "array([[1.00000000e+00, 1.00000000e+00, 6.12033229e-08, ...,\n",
       "        3.25864056e-08, 2.05806022e-10, 9.45263889e-09],\n",
       "       [1.00000000e+00, 1.00000000e+00, 6.91622941e-08, ...,\n",
       "        3.92480737e-08, 2.26810089e-10, 1.04173524e-08],\n",
       "       [6.12033229e-08, 6.91622941e-08, 1.00000000e+00, ...,\n",
       "        6.51360762e-01, 3.05445028e-03, 1.40290431e-01],\n",
       "       ...,\n",
       "       [3.25864056e-08, 3.92480737e-08, 6.51360762e-01, ...,\n",
       "        1.00000000e+00, 7.84565976e-04, 3.60349944e-02],\n",
       "       [2.05806022e-10, 2.26810089e-10, 3.05445028e-03, ...,\n",
       "        7.84565976e-04, 1.00000000e+00, 5.63598637e-04],\n",
       "       [9.45263889e-09, 1.04173524e-08, 1.40290431e-01, ...,\n",
       "        3.60349944e-02, 5.63598637e-04, 1.00000000e+00]])"
      ]
     },
     "execution_count": 9,
     "metadata": {},
     "output_type": "execute_result"
    }
   ],
   "source": [
    "similarmatrix"
   ]
  },
  {
   "cell_type": "code",
   "execution_count": 10,
   "metadata": {},
   "outputs": [],
   "source": [
    "forma=pd.DataFrame(data=similarmatrix)"
   ]
  }
 ],
 "metadata": {
  "kernelspec": {
   "display_name": "Python 3",
   "language": "python",
   "name": "python3"
  },
  "language_info": {
   "codemirror_mode": {
    "name": "ipython",
    "version": 3
   },
   "file_extension": ".py",
   "mimetype": "text/x-python",
   "name": "python",
   "nbconvert_exporter": "python",
   "pygments_lexer": "ipython3",
   "version": "3.12.1"
  }
 },
 "nbformat": 4,
 "nbformat_minor": 2
}
